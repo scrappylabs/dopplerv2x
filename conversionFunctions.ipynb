{
 "cells": [
  {
   "cell_type": "code",
   "execution_count": 1,
   "metadata": {},
   "outputs": [
    {
     "name": "stdout",
     "output_type": "stream",
     "text": [
      "Enter speed in mph: 10\n",
      "Speed in m/h: 10.0\n",
      "Speed in m/s: 4.4704\n"
     ]
    }
   ],
   "source": [
    "##### kilometers per hour to miles per hour #####\n",
    "def kmh2mph():\n",
    "    kmh = float(input(\"Enter speed in kmh: \"))\n",
    "    kmh2mph_conversion_factor = 0.62137119\n",
    "    mph = float(kmh * kmh2mph_conversion_factor)\n",
    "\n",
    "    print(\"Speed in km/h: {}\".format(kmh))\n",
    "    print(\"Speed in m/h: {}\".format(mph))\n",
    "\n",
    "##### miles per hour to kilometers per hour #####\n",
    "def mph2kph():\n",
    "    mph = float(input(\"Enter speed in mph: \"))\n",
    "    mph2kmh_conversion_factor = 0.62137119\n",
    "    kmh = float(mph / mph2kmh_conversion_factor)\n",
    "\n",
    "    print(\"Speed in m/h: {}\".format(mph))\n",
    "    print(\"Speed in km/h: {}\".format(kmh))\n",
    "\n",
    "##### Meters per second to miles per hour #####\n",
    "def mps2mph():\n",
    "    mps = float(input(\"Enter speed in mps: \"))\n",
    "    mps2mph_conversion_factor = 2.236936\n",
    "    mph = float(mps * mps2mph_conversion_factor)\n",
    "\n",
    "    print(\"Speed in m/s: {}\".format(mps))\n",
    "    print(\"Speed in m/h: {}\".format(mph))\n",
    "\n",
    "##### Meters per second to kilomiles per hour #####\n",
    "def mps2kph():\n",
    "    mps = float(input(\"Enter speed in m/s: \"))\n",
    "    mps2kmh_conversion_factor = 3.6\n",
    "    kmh = float(mps * mps2kmh_conversion_factor)\n",
    "\n",
    "    print(\"Speed in m/s: {}\".format(mps))\n",
    "    print(\"Speed in km/h: {}\".format(kmh))\n",
    "\n",
    "\n",
    "##### Miles per hour to meters per second #####\n",
    "def mph2mps():\n",
    "    mph = float(input(\"Enter speed in mph: \"))\n",
    "    mph2mps_conversion_factor = 0.44704\n",
    "    mps = float(mph * mph2mps_conversion_factor)\n",
    "\n",
    "    print(\"Speed in m/h: {}\".format(mph))\n",
    "    print(\"Speed in m/s: {}\".format(mps))"
   ]
  },
  {
   "cell_type": "code",
   "execution_count": null,
   "metadata": {},
   "outputs": [],
   "source": []
  }
 ],
 "metadata": {
  "kernelspec": {
   "display_name": "Python 3",
   "language": "python",
   "name": "python3"
  },
  "language_info": {
   "codemirror_mode": {
    "name": "ipython",
    "version": 3
   },
   "file_extension": ".py",
   "mimetype": "text/x-python",
   "name": "python",
   "nbconvert_exporter": "python",
   "pygments_lexer": "ipython3",
   "version": "3.7.1"
  }
 },
 "nbformat": 4,
 "nbformat_minor": 2
}
