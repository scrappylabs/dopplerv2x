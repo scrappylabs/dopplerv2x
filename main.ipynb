{
 "cells": [
  {
   "cell_type": "code",
   "execution_count": 4,
   "metadata": {},
   "outputs": [
    {
     "ename": "SyntaxError",
     "evalue": "invalid syntax (<ipython-input-4-78ae37f72c02>, line 24)",
     "output_type": "error",
     "traceback": [
      "\u001b[1;36m  File \u001b[1;32m\"<ipython-input-4-78ae37f72c02>\"\u001b[1;36m, line \u001b[1;32m24\u001b[0m\n\u001b[1;33m    lambda = physconst('LightSpeed')/f0;\u001b[0m\n\u001b[1;37m           ^\u001b[0m\n\u001b[1;31mSyntaxError\u001b[0m\u001b[1;31m:\u001b[0m invalid syntax\n"
     ]
    }
   ],
   "source": [
    "%run ProcessRawDataToAlignedDopplerProfile.ipynb"
   ]
  },
  {
   "cell_type": "code",
   "execution_count": 5,
   "metadata": {},
   "outputs": [
    {
     "name": "stdout",
     "output_type": "stream",
     "text": [
      "Begin preprocessing...\n"
     ]
    }
   ],
   "source": [
    "print(\"Begin preprocessing...\")"
   ]
  },
  {
   "cell_type": "code",
   "execution_count": 6,
   "metadata": {},
   "outputs": [],
   "source": [
    "fc = 5.89e9\n",
    "fs = 1e6\n",
    "fsc = 156250\n",
    "doppler_window_size = 2000"
   ]
  },
  {
   "cell_type": "code",
   "execution_count": 7,
   "metadata": {},
   "outputs": [
    {
     "ename": "FileNotFoundError",
     "evalue": "[Errno 2] No such file or directory: 'test_raw_data/'",
     "output_type": "error",
     "traceback": [
      "\u001b[1;31m---------------------------------------------------------------------------\u001b[0m",
      "\u001b[1;31mFileNotFoundError\u001b[0m                         Traceback (most recent call last)",
      "\u001b[1;32m<ipython-input-7-e043245c1cf1>\u001b[0m in \u001b[0;36m<module>\u001b[1;34m\u001b[0m\n\u001b[0;32m     11\u001b[0m \u001b[0mdisplay_option_3\u001b[0m \u001b[1;33m=\u001b[0m \u001b[1;36m0\u001b[0m \u001b[1;31m# Compute and display the Unaligned Doppler Profile\u001b[0m\u001b[1;33m\u001b[0m\u001b[1;33m\u001b[0m\u001b[0m\n\u001b[0;32m     12\u001b[0m \u001b[1;33m\u001b[0m\u001b[0m\n\u001b[1;32m---> 13\u001b[1;33m \u001b[0mdirpath\u001b[0m \u001b[1;33m=\u001b[0m \u001b[0mopen\u001b[0m\u001b[1;33m(\u001b[0m\u001b[1;34m'test_raw_data/'\u001b[0m\u001b[1;33m,\u001b[0m \u001b[1;34m'r'\u001b[0m\u001b[1;33m)\u001b[0m\u001b[1;33m\u001b[0m\u001b[1;33m\u001b[0m\u001b[0m\n\u001b[0m\u001b[0;32m     14\u001b[0m \u001b[0mthefilename\u001b[0m \u001b[1;33m=\u001b[0m \u001b[0mopen\u001b[0m\u001b[1;33m(\u001b[0m\u001b[1;34m'rfc_coll_01'\u001b[0m\u001b[1;33m,\u001b[0m \u001b[1;34m'r'\u001b[0m\u001b[1;33m)\u001b[0m\u001b[1;33m\u001b[0m\u001b[1;33m\u001b[0m\u001b[0m\n\u001b[0;32m     15\u001b[0m \u001b[1;33m\u001b[0m\u001b[0m\n",
      "\u001b[1;31mFileNotFoundError\u001b[0m: [Errno 2] No such file or directory: 'test_raw_data/'"
     ]
    }
   ],
   "source": [
    "# Select Doppler Profile Resolution\n",
    "highres = 0\n",
    "if highres == True: # Longer time to process, but more accurate\n",
    "    win_adv = 5e-3 #5e-3; # s, sliding window advancement durationwin_duration = 1 #seconds, fft window duration\n",
    "else: # shorter time to process, but slightly less accurate\n",
    "    win_adv = 5e-2 #5e-3; # seconds, sliding window advancement duration\n",
    "    win_duration = .1 # seconds, fft window duration\n",
    "\n",
    "display_option_1 = 0 # Display the Aligned Doppler Spectrum for all processed windows in real-time\n",
    "display_option_2 = 0 # Display the aligned Doppler Spectra (different from Doppler Profile) in real-time.\n",
    "display_option_3 = 0 # Compute and display the Unaligned Doppler Profile\n",
    "\n",
    "dirpath = open('test_raw_data/', 'r')\n",
    "thefilename = open('rfc_coll_01', 'r')\n",
    "   \n",
    "    \n",
    "#     # Get the Doppler Profile from complex-baseband binary file.\n",
    "#    # Returns:\n",
    "#     t_DP = time-axis\n",
    "#     f_DP = frequency-axis\n",
    "#     a_DP = aligned Doppler Profile\n",
    "#     ua_DP = unaligned Doppler Profile\n",
    "#    [t_DP, f_DP , cfo_DP, a_DP, ua_DP] = ProcessRawDataToAlignedDopplerProfile(fc,fs,fsc,doppler_window_size,win_adv,win_duration,display_option_1,display_option_2, display_option_3, dirpath, thefilename);\n",
    "#    print(\"Aligned Doppler Profile Created.\")"
   ]
  },
  {
   "cell_type": "code",
   "execution_count": null,
   "metadata": {},
   "outputs": [],
   "source": []
  }
 ],
 "metadata": {
  "kernelspec": {
   "display_name": "Python 3",
   "language": "python",
   "name": "python3"
  },
  "language_info": {
   "codemirror_mode": {
    "name": "ipython",
    "version": 3
   },
   "file_extension": ".py",
   "mimetype": "text/x-python",
   "name": "python",
   "nbconvert_exporter": "python",
   "pygments_lexer": "ipython3",
   "version": "3.7.1"
  }
 },
 "nbformat": 4,
 "nbformat_minor": 2
}
